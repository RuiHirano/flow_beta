{
 "cells": [
  {
   "cell_type": "code",
   "execution_count": 56,
   "metadata": {},
   "outputs": [],
   "source": [
    "import json\n",
    "import pathlib\n",
    "from matplotlib import pyplot as plt\n",
    "from random import randint\n",
    "import pandas as pd"
   ]
  },
  {
   "cell_type": "code",
   "execution_count": 57,
   "metadata": {},
   "outputs": [],
   "source": [
    "def read_json(name: str):\n",
    "    json_open = open(name, 'r')\n",
    "    json_load = json.load(json_open)\n",
    "    #print(json_load)\n",
    "    return json_load"
   ]
  },
  {
   "cell_type": "code",
   "execution_count": 58,
   "metadata": {},
   "outputs": [],
   "source": [
    "def get_filenames():\n",
    "    filenames = []\n",
    "    p_temp = pathlib.Path('./').glob('*.json')\n",
    "    for p in p_temp:\n",
    "        filenames.append(p.name)\n",
    "    return filenames"
   ]
  },
  {
   "cell_type": "code",
   "execution_count": 72,
   "metadata": {},
   "outputs": [],
   "source": [
    "def data_generator():\n",
    "    data =pd.DataFrame([], index=[], columns=[\"time\", \"S\", \"I\", \"R\"])\n",
    "    filenames = get_filenames()\n",
    "    for name in filenames:\n",
    "        json_data = read_json(name)\n",
    "        for step_data in json_data:\n",
    "            #print([step_data[\"time\"], step_data[\"susceptible\"], step_data[\"infected\"], step_data[\"recovered\"]])\n",
    "            data = data.append({\"time\": step_data[\"time\"], \"S\": step_data[\"susceptible\"],  \"I\": step_data[\"infected\"],  \"R\": step_data[\"recovered\"]}, ignore_index=True)\n",
    "            \n",
    "    df_after = data.groupby('time').apply(lambda x: x.sum()).drop('time',axis=1)\n",
    "    return df_after"
   ]
  },
  {
   "cell_type": "code",
   "execution_count": 74,
   "metadata": {},
   "outputs": [
    {
     "data": {
      "text/plain": [
       "<matplotlib.axes._subplots.AxesSubplot at 0x120115128>"
      ]
     },
     "execution_count": 74,
     "metadata": {},
     "output_type": "execute_result"
    },
    {
     "data": {
      "image/png": "[encoded data removed]",
      "text/plain": [
       "<Figure size 432x288 with 1 Axes>"
      ]
     },
     "metadata": {
      "needs_background": "light"
     },
     "output_type": "display_data"
    }
   ],
   "source": [
    "data = data_generator()\n",
    "data.plot()"
   ]
  },
  {
   "cell_type": "code",
   "execution_count": null,
   "metadata": {},
   "outputs": [],
   "source": []
  }
 ],
 "metadata": {
  "kernelspec": {
   "display_name": "Python 3.7.0 64-bit ('3.7.0': pyenv)",
   "language": "python",
   "name": "python37064bit370pyenv0749abe64be54f97b0a4c791063e5b14"
  },
  "language_info": {
   "codemirror_mode": {
    "name": "ipython",
    "version": 3
   },
   "file_extension": ".py",
   "mimetype": "text/x-python",
   "name": "python",
   "nbconvert_exporter": "python",
   "pygments_lexer": "ipython3",
   "version": "3.7.0"
  }
 },
 "nbformat": 4,
 "nbformat_minor": 4
}
