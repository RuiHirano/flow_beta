{
 "cells": [
  {
   "cell_type": "code",
   "execution_count": 2,
   "metadata": {
    "scrolled": true
   },
   "outputs": [
    {
     "name": "stderr",
     "output_type": "stream",
     "text": [
      "/Users/ruihirano/.pyenv/versions/3.7.0/lib/python3.7/site-packages/pandas/compat/__init__.py:117: UserWarning: Could not import the lzma module. Your installed Python is incomplete. Attempting to use lzma compression will result in a RuntimeError.\n",
      "  warnings.warn(msg)\n"
     ]
    }
   ],
   "source": [
    "import json\n",
    "import pathlib\n",
    "from matplotlib import pyplot as plt\n",
    "from random import randint\n",
    "import pandas as pd"
   ]
  },
  {
   "cell_type": "code",
   "execution_count": 3,
   "metadata": {},
   "outputs": [],
   "source": [
    "dirpath = './test2/'"
   ]
  },
  {
   "cell_type": "code",
   "execution_count": 4,
   "metadata": {},
   "outputs": [],
   "source": [
    "def read_json(name: str):\n",
    "    json_open = open(dirpath+name, 'r')\n",
    "    json_load = json.load(json_open)\n",
    "    #print(json_load)\n",
    "    return json_load"
   ]
  },
  {
   "cell_type": "code",
   "execution_count": 5,
   "metadata": {},
   "outputs": [],
   "source": [
    "def get_filenames():\n",
    "    filenames = []\n",
    "    p_temp = pathlib.Path(dirpath).glob('*.json')\n",
    "    for p in p_temp:\n",
    "        filenames.append(p.name)\n",
    "    return filenames"
   ]
  },
  {
   "cell_type": "code",
   "execution_count": 6,
   "metadata": {},
   "outputs": [],
   "source": [
    "def data_generator():\n",
    "    data =pd.DataFrame([], index=[], columns=[\"time\", \"S\", \"I\", \"R\"])\n",
    "    filenames = get_filenames()\n",
    "    for name in filenames:\n",
    "        json_data = read_json(name)\n",
    "        for step_data in json_data:\n",
    "            #print([step_data[\"time\"], step_data[\"susceptible\"], step_data[\"infected\"], step_data[\"recovered\"]])\n",
    "            data = data.append({\"time\": step_data[\"time\"], \"S\": step_data[\"susceptible\"],  \"I\": step_data[\"infected\"],  \"R\": step_data[\"recovered\"]}, ignore_index=True)\n",
    "            \n",
    "    df_after = data.groupby('time').apply(lambda x: x.sum()).drop('time',axis=1)\n",
    "    return df_after"
   ]
  },
  {
   "cell_type": "code",
   "execution_count": 19,
   "metadata": {},
   "outputs": [
    {
     "name": "stdout",
     "output_type": "stream",
     "text": [
      "758.0 0.7335092348284961 Int64Index([ 30,  31,  32,  33,  34,  35,  36,  37,  38,  39,\n",
      "            ...\n",
      "            192, 193, 194, 195, 196, 197, 198, 199, 200, 201],\n",
      "           dtype='int64', name='time', length=172)\n",
      "     time             S             I    R\n",
      "0      30  80000.000000  25205.804749  0.0\n",
      "1      31  79472.295515  25422.163588  0.0\n",
      "2      32  78733.509235  26071.240106  0.0\n",
      "3      33  77678.100264  27044.854881  0.0\n",
      "4      34  77255.936675  27369.393140  0.0\n",
      "..    ...           ...           ...  ...\n",
      "167   197  37361.477573  59498.680739  0.0\n",
      "168   198  37255.936675  59606.860158  0.0\n",
      "169   199  37150.395778  59715.039578  0.0\n",
      "170   200  36939.313984  59823.218997  0.0\n",
      "171   201  36622.691293  60147.757256  0.0\n",
      "\n",
      "[172 rows x 4 columns] 172\n",
      "     time             S             I    R\n",
      "0      30  80000.000000  25205.804749  0.0\n",
      "1      31  79472.295515  25422.163588  0.0\n",
      "2      32  78733.509235  26071.240106  0.0\n",
      "3      33  77678.100264  27044.854881  0.0\n",
      "4      34  77255.936675  27369.393140  0.0\n",
      "..    ...           ...           ...  ...\n",
      "167   197  37361.477573  59606.860158  0.0\n",
      "168   198  37255.936675  59606.860158  0.0\n",
      "169   199  37150.395778  59715.039578  0.0\n",
      "170   200  36939.313984  59823.218997  0.0\n",
      "171   201  36622.691293  60147.757256  0.0\n",
      "\n",
      "[172 rows x 4 columns] 172\n"
     ]
    }
   ],
   "source": [
    "import matplotlib.pyplot as plt\n",
    "import japanize_matplotlib\n",
    "data = data_generator()\n",
    "\n",
    "data = data[30:] # データ調整\n",
    "smax = data[\"S\"].max()\n",
    "smin = data[\"S\"].min()\n",
    "imax = data[\"I\"].max()\n",
    "imin = data[\"I\"].min()\n",
    "sirate = imax/smax\n",
    "\n",
    "print(smax, sirate, data.index)\n",
    "data[\"I\"] = data[\"I\"].apply(lambda x: x/imax * 82000*sirate)\n",
    "data[\"S\"] = data[\"S\"].apply(lambda x: x/smax * 80000)\n",
    "data = data.reset_index()\n",
    "\n",
    "\n",
    "print(data, len(data))\n",
    "\n",
    "for index, row in data.iterrows():\n",
    "    if index >0:\n",
    "        preI = data.at[index-1, \"I\"]\n",
    "        preS = data.at[index-1, \"S\"]\n",
    "        if data.at[index,\"I\"] < preI:\n",
    "            data.at[index, \"I\"] = preI\n",
    "        if data.at[index,\"S\"] > preS:\n",
    "            data.at[index, \"S\"] = preS\n",
    "    \n",
    "    \n",
    "print(data, len(data))\n",
    "data[\"time\"] = data[\"time\"].apply(lambda x: (x-30) * 3600/len(data))\n",
    "data = data.set_index(\"time\")\n",
    "\n",
    "fig = plt.figure()\n",
    "ax = fig.add_subplot(1, 1, 1)\n",
    "ax.grid()\n",
    "ax.set_xlabel('サーバ台数')  # x軸ラベル\n",
    "ax.set_ylabel('エージェント数')  # y軸ラベル\n",
    "#plt.figure()\n",
    "data.plot(ax=ax)\n",
    "#plt.savefig('./pandas_iris_line4.png',format = 'png', dpi=300)\n",
    "plt.close('all')"
   ]
  },
  {
   "cell_type": "code",
   "execution_count": 21,
   "metadata": {
    "scrolled": true
   },
   "outputs": [
    {
     "name": "stdout",
     "output_type": "stream",
     "text": [
      "                        S             I    R\n",
      "time                                        \n",
      "0.000000     80000.000000  25205.804749  0.0\n",
      "20.930233    79472.295515  25422.163588  0.0\n",
      "41.860465    78733.509235  26071.240106  0.0\n",
      "62.790698    77678.100264  27044.854881  0.0\n",
      "83.720930    77255.936675  27369.393140  0.0\n",
      "...                   ...           ...  ...\n",
      "3495.348837  37361.477573  59606.860158  0.0\n",
      "3516.279070  37255.936675  59606.860158  0.0\n",
      "3537.209302  37150.395778  59715.039578  0.0\n",
      "3558.139535  36939.313984  59823.218997  0.0\n",
      "3579.069767  36622.691293  60147.757256  0.0\n",
      "\n",
      "[172 rows x 3 columns] [   0.           20.93023256   41.86046512   62.79069767   83.72093023\n",
      "  104.65116279  125.58139535  146.51162791  167.44186047  188.37209302\n",
      "  209.30232558  230.23255814  251.1627907   272.09302326  293.02325581\n",
      "  313.95348837  334.88372093  355.81395349  376.74418605  397.6744186\n",
      "  418.60465116  439.53488372  460.46511628  481.39534884  502.3255814\n",
      "  523.25581395  544.18604651  565.11627907  586.04651163  606.97674419\n",
      "  627.90697674  648.8372093   669.76744186  690.69767442  711.62790698\n",
      "  732.55813953  753.48837209  774.41860465  795.34883721  816.27906977\n",
      "  837.20930233  858.13953488  879.06976744  900.          920.93023256\n",
      "  941.86046512  962.79069767  983.72093023 1004.65116279 1025.58139535\n",
      " 1046.51162791 1067.44186047 1088.37209302 1109.30232558 1130.23255814\n",
      " 1151.1627907  1172.09302326 1193.02325581 1213.95348837 1234.88372093\n",
      " 1255.81395349 1276.74418605 1297.6744186  1318.60465116 1339.53488372\n",
      " 1360.46511628 1381.39534884 1402.3255814  1423.25581395 1444.18604651\n",
      " 1465.11627907 1486.04651163 1506.97674419 1527.90697674 1548.8372093\n",
      " 1569.76744186 1590.69767442 1611.62790698 1632.55813953 1653.48837209\n",
      " 1674.41860465 1695.34883721 1716.27906977 1737.20930233 1758.13953488\n",
      " 1779.06976744 1800.         1820.93023256 1841.86046512 1862.79069767\n",
      " 1883.72093023 1904.65116279 1925.58139535 1946.51162791 1967.44186047\n",
      " 1988.37209302 2009.30232558 2030.23255814 2051.1627907  2072.09302326\n",
      " 2093.02325581 2113.95348837 2134.88372093 2155.81395349 2176.74418605\n",
      " 2197.6744186  2218.60465116 2239.53488372 2260.46511628 2281.39534884\n",
      " 2302.3255814  2323.25581395 2344.18604651 2365.11627907 2386.04651163\n",
      " 2406.97674419 2427.90697674 2448.8372093  2469.76744186 2490.69767442\n",
      " 2511.62790698 2532.55813953 2553.48837209 2574.41860465 2595.34883721\n",
      " 2616.27906977 2637.20930233 2658.13953488 2679.06976744 2700.\n",
      " 2720.93023256 2741.86046512 2762.79069767 2783.72093023 2804.65116279\n",
      " 2825.58139535 2846.51162791 2867.44186047 2888.37209302 2909.30232558\n",
      " 2930.23255814 2951.1627907  2972.09302326 2993.02325581 3013.95348837\n",
      " 3034.88372093 3055.81395349 3076.74418605 3097.6744186  3118.60465116\n",
      " 3139.53488372 3160.46511628 3181.39534884 3202.3255814  3223.25581395\n",
      " 3244.18604651 3265.11627907 3286.04651163 3306.97674419 3327.90697674\n",
      " 3348.8372093  3369.76744186 3390.69767442 3411.62790698 3432.55813953\n",
      " 3453.48837209 3474.41860465 3495.34883721 3516.27906977 3537.20930233\n",
      " 3558.13953488 3579.06976744]\n"
     ]
    },
    {
     "data": {
      "image/png": "[encoded data removed]",
      "text/plain": [
       "<Figure size 432x288 with 1 Axes>"
      ]
     },
     "metadata": {
      "needs_background": "light"
     },
     "output_type": "display_data"
    }
   ],
   "source": [
    "\"\"\"複数のグラフを重ねて描画するプログラム\"\"\"\n",
    "import numpy as np\n",
    "import matplotlib.pyplot as plt\n",
    "\n",
    "print(data, data.index.values)\n",
    "\n",
    "fig, ax = plt.subplots()\n",
    "\n",
    "ave = data[\"S\"].values\n",
    "x = data.index.values\n",
    "\n",
    "ave2 = data[\"I\"].values\n",
    "x2 = data.index.values\n",
    "\n",
    "ave3 = data[\"R\"].values\n",
    "x3 = data.index.values\n",
    "\n",
    "\n",
    "c1,c2,c3,c4 = \"blue\",\"green\",\"red\",\"orange\"      # 各プロットの色\n",
    "l1,l2,l3,l4 = \"S\",\"I\",\"R\",\"node4\"   # 各ラベル\n",
    "\n",
    "ax.set_xlabel('経過時間(s)')  # x軸ラベル\n",
    "ax.set_ylabel('エージェント数')  # y軸ラベル\n",
    "# ax.set_aspect('equal') # スケールを揃える\n",
    "ax.grid()            # 罫線\n",
    "#ax.set_xlim([-10, 10]) # x方向の描画範囲を指定\n",
    "#ax.set_ylim([0, 1])    # y方向の描画範囲を指定\n",
    "ax.plot(x, ave, color=c1,  label=l1)\n",
    "ax.plot(x2, ave2, color=c2, label=l2)\n",
    "ax.plot(x3, ave3, color=c3, label=l3)\n",
    "ax.legend(loc=0)    # 凡例\n",
    "fig.tight_layout()  # レイアウトの設定\n",
    "# plt.savefig('hoge.png') # 画像の保存\n",
    "plt.savefig(\"sim-result5.png\",format = 'png', dpi=300)\n",
    "plt.show()"
   ]
  },
  {
   "cell_type": "code",
   "execution_count": 69,
   "metadata": {
    "scrolled": true
   },
   "outputs": [
    {
     "name": "stdout",
     "output_type": "stream",
     "text": [
      "                        S             I    R\n",
      "time                                        \n",
      "0.000000     76000.000000  23361.477573  0.0\n",
      "20.930233    75498.680739  23562.005277  0.0\n",
      "41.860465    74796.833773  24163.588391  0.0\n",
      "62.790698    73794.195251  25065.963061  0.0\n",
      "83.720930    73393.139842  25366.754617  0.0\n",
      "...                   ...           ...  ...\n",
      "3495.348837  35493.403694  55145.118734  0.0\n",
      "3516.279070  35393.139842  55245.382586  0.0\n",
      "3537.209302  35292.875989  55345.646438  0.0\n",
      "3558.139535  35092.348285  55445.910290  0.0\n",
      "3579.069767  34791.556728  55746.701847  0.0\n",
      "\n",
      "[172 rows x 3 columns] [   0.           20.93023256   41.86046512   62.79069767   83.72093023\n",
      "  104.65116279  125.58139535  146.51162791  167.44186047  188.37209302\n",
      "  209.30232558  230.23255814  251.1627907   272.09302326  293.02325581\n",
      "  313.95348837  334.88372093  355.81395349  376.74418605  397.6744186\n",
      "  418.60465116  439.53488372  460.46511628  481.39534884  502.3255814\n",
      "  523.25581395  544.18604651  565.11627907  586.04651163  606.97674419\n",
      "  627.90697674  648.8372093   669.76744186  690.69767442  711.62790698\n",
      "  732.55813953  753.48837209  774.41860465  795.34883721  816.27906977\n",
      "  837.20930233  858.13953488  879.06976744  900.          920.93023256\n",
      "  941.86046512  962.79069767  983.72093023 1004.65116279 1025.58139535\n",
      " 1046.51162791 1067.44186047 1088.37209302 1109.30232558 1130.23255814\n",
      " 1151.1627907  1172.09302326 1193.02325581 1213.95348837 1234.88372093\n",
      " 1255.81395349 1276.74418605 1297.6744186  1318.60465116 1339.53488372\n",
      " 1360.46511628 1381.39534884 1402.3255814  1423.25581395 1444.18604651\n",
      " 1465.11627907 1486.04651163 1506.97674419 1527.90697674 1548.8372093\n",
      " 1569.76744186 1590.69767442 1611.62790698 1632.55813953 1653.48837209\n",
      " 1674.41860465 1695.34883721 1716.27906977 1737.20930233 1758.13953488\n",
      " 1779.06976744 1800.         1820.93023256 1841.86046512 1862.79069767\n",
      " 1883.72093023 1904.65116279 1925.58139535 1946.51162791 1967.44186047\n",
      " 1988.37209302 2009.30232558 2030.23255814 2051.1627907  2072.09302326\n",
      " 2093.02325581 2113.95348837 2134.88372093 2155.81395349 2176.74418605\n",
      " 2197.6744186  2218.60465116 2239.53488372 2260.46511628 2281.39534884\n",
      " 2302.3255814  2323.25581395 2344.18604651 2365.11627907 2386.04651163\n",
      " 2406.97674419 2427.90697674 2448.8372093  2469.76744186 2490.69767442\n",
      " 2511.62790698 2532.55813953 2553.48837209 2574.41860465 2595.34883721\n",
      " 2616.27906977 2637.20930233 2658.13953488 2679.06976744 2700.\n",
      " 2720.93023256 2741.86046512 2762.79069767 2783.72093023 2804.65116279\n",
      " 2825.58139535 2846.51162791 2867.44186047 2888.37209302 2909.30232558\n",
      " 2930.23255814 2951.1627907  2972.09302326 2993.02325581 3013.95348837\n",
      " 3034.88372093 3055.81395349 3076.74418605 3097.6744186  3118.60465116\n",
      " 3139.53488372 3160.46511628 3181.39534884 3202.3255814  3223.25581395\n",
      " 3244.18604651 3265.11627907 3286.04651163 3306.97674419 3327.90697674\n",
      " 3348.8372093  3369.76744186 3390.69767442 3411.62790698 3432.55813953\n",
      " 3453.48837209 3474.41860465 3495.34883721 3516.27906977 3537.20930233\n",
      " 3558.13953488 3579.06976744]\n"
     ]
    },
    {
     "data": {
      "image/png": "[encoded data removed]",
      "text/plain": [
       "<Figure size 432x288 with 2 Axes>"
      ]
     },
     "metadata": {
      "needs_background": "light"
     },
     "output_type": "display_data"
    }
   ],
   "source": [
    "\"\"\"複数のグラフを重ねて描画するプログラム\"\"\"\n",
    "import numpy as np\n",
    "import matplotlib.pyplot as plt\n",
    "\n",
    "print(data, data.index.values)\n",
    "\n",
    "fig, ax = plt.subplots()\n",
    "ax2 = ax.twinx()\n",
    "\n",
    "# 計算時間\n",
    "ave = [3520, 1374, 382, 200, 143]\n",
    "x = [1,4,9,16,25]\n",
    "\n",
    "# 通信時間\n",
    "ave2 = [14, 2682, 1217, 908, 513]\n",
    "x2 = [1,4,9,16,25]\n",
    "\n",
    "# 1サイクル時間\n",
    "ave3 = [3556, 3785, 1613, 1237, 681]\n",
    "x3 = [1,4,9,16,25]\n",
    "\n",
    "\n",
    "# 1サイクル時間\n",
    "ave4 = [213.45, 227.12, 96.46, 74.22, 40.43]\n",
    "x4 = [1,4,9,16,25]\n",
    "\n",
    "c1,c2,c3,c4 = \"blue\",\"green\",\"red\",\"orange\"      # 各プロットの色\n",
    "l1,l2,l3,l4 = \"計算時間\",\"通信時間\",\"1サイクル時間\",\"node4\"   # 各ラベル\n",
    "\n",
    "ax.set_xlabel('サーバー台数')  # x軸ラベル\n",
    "ax.set_ylabel('1サイクルあたりの実行時間(ms)')  # y軸ラベル\n",
    "#ax2.set_ylabel('シミュレーション実行時間(min)')  # y軸ラベル\n",
    "# ax.set_aspect('equal') # スケールを揃える\n",
    "ax.grid()            # 罫線\n",
    "#ax.set_xlim([-10, 10]) # x方向の描画範囲を指定\n",
    "#ax.set_ylim([0, 1])    # y方向の描画範囲を指定\n",
    "ax.plot(x, ave, color=c1,  label=l1)\n",
    "ax.plot(x2, ave2, color=c2, label=l2)\n",
    "ax.plot(x3, ave3, color=c3, label=l3)\n",
    "#ax2.plot(x4, ave4, color=c4, label=l4)\n",
    "ax.legend(loc=0)    # 凡例\n",
    "fig.tight_layout()  # レイアウトの設定\n",
    "# plt.savefig('hoge.png') # 画像の保存\n",
    "plt.savefig(\"time-result.png\",format = 'png', dpi=300)\n",
    "plt.show()"
   ]
  },
  {
   "cell_type": "code",
   "execution_count": null,
   "metadata": {},
   "outputs": [],
   "source": []
  }
 ],
 "metadata": {
  "kernelspec": {
   "display_name": "Python 3.7.0 64-bit ('3.7.0': pyenv)",
   "language": "python",
   "name": "python37064bit370pyenv0749abe64be54f97b0a4c791063e5b14"
  },
  "language_info": {
   "codemirror_mode": {
    "name": "ipython",
    "version": 3
   },
   "file_extension": ".py",
   "mimetype": "text/x-python",
   "name": "python",
   "nbconvert_exporter": "python",
   "pygments_lexer": "ipython3",
   "version": "3.7.0"
  }
 },
 "nbformat": 4,
 "nbformat_minor": 4
}
