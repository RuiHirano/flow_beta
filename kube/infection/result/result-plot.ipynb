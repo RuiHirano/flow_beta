{
 "cells": [
  {
   "cell_type": "code",
   "execution_count": 17,
   "metadata": {
    "scrolled": true
   },
   "outputs": [],
   "source": [
    "import json\n",
    "import pathlib\n",
    "from matplotlib import pyplot as plt\n",
    "from random import randint\n",
    "import pandas as pd"
   ]
  },
  {
   "cell_type": "code",
   "execution_count": 18,
   "metadata": {},
   "outputs": [],
   "source": [
    "dirpath = './test2/'"
   ]
  },
  {
   "cell_type": "code",
   "execution_count": 19,
   "metadata": {},
   "outputs": [],
   "source": [
    "def read_json(name: str):\n",
    "    json_open = open(dirpath+name, 'r')\n",
    "    json_load = json.load(json_open)\n",
    "    #print(json_load)\n",
    "    return json_load"
   ]
  },
  {
   "cell_type": "code",
   "execution_count": 20,
   "metadata": {},
   "outputs": [],
   "source": [
    "def get_filenames():\n",
    "    filenames = []\n",
    "    p_temp = pathlib.Path(dirpath).glob('*.json')\n",
    "    for p in p_temp:\n",
    "        filenames.append(p.name)\n",
    "    return filenames"
   ]
  },
  {
   "cell_type": "code",
   "execution_count": 21,
   "metadata": {},
   "outputs": [],
   "source": [
    "def data_generator():\n",
    "    data =pd.DataFrame([], index=[], columns=[\"time\", \"S\", \"I\", \"R\"])\n",
    "    filenames = get_filenames()\n",
    "    for name in filenames:\n",
    "        json_data = read_json(name)\n",
    "        for step_data in json_data:\n",
    "            #print([step_data[\"time\"], step_data[\"susceptible\"], step_data[\"infected\"], step_data[\"recovered\"]])\n",
    "            data = data.append({\"time\": step_data[\"time\"], \"S\": step_data[\"susceptible\"],  \"I\": step_data[\"infected\"],  \"R\": step_data[\"recovered\"]}, ignore_index=True)\n",
    "            \n",
    "    df_after = data.groupby('time').apply(lambda x: x.sum()).drop('time',axis=1)\n",
    "    return df_after"
   ]
  },
  {
   "cell_type": "code",
   "execution_count": 48,
   "metadata": {},
   "outputs": [
    {
     "name": "stdout",
     "output_type": "stream",
     "text": [
      "758.0 0.7335092348284961 Int64Index([ 30,  31,  32,  33,  34,  35,  36,  37,  38,  39,\n",
      "            ...\n",
      "            192, 193, 194, 195, 196, 197, 198, 199, 200, 201],\n",
      "           dtype='int64', name='time', length=172)\n",
      "                S             I    R\n",
      "0    76000.000000  23361.477573  0.0\n",
      "1    75498.680739  23562.005277  0.0\n",
      "2    74796.833773  24163.588391  0.0\n",
      "3    73794.195251  25065.963061  0.0\n",
      "4    73393.139842  25366.754617  0.0\n",
      "..            ...           ...  ...\n",
      "167  35493.403694  55145.118734  0.0\n",
      "168  35393.139842  55245.382586  0.0\n",
      "169  35292.875989  55345.646438  0.0\n",
      "170  35092.348285  55445.910290  0.0\n",
      "171  34791.556728  55746.701847  0.0\n",
      "\n",
      "[172 rows x 3 columns]\n"
     ]
    },
    {
     "data": {
      "text/plain": [
       "<matplotlib.axes._subplots.AxesSubplot at 0x12748cd30>"
      ]
     },
     "execution_count": 48,
     "metadata": {},
     "output_type": "execute_result"
    },
    {
     "data": {
      "image/png": "[encoded data removed]",
      "text/plain": [
       "<Figure size 432x288 with 1 Axes>"
      ]
     },
     "metadata": {
      "needs_background": "light"
     },
     "output_type": "display_data"
    }
   ],
   "source": [
    "data = data_generator()\n",
    "\n",
    "data = data[30:] # データ調整\n",
    "smax = data[\"S\"].max()\n",
    "smin = data[\"S\"].min()\n",
    "imax = data[\"I\"].max()\n",
    "imin = data[\"I\"].min()\n",
    "sirate = imax/smax\n",
    "\n",
    "print(smax, sirate, data.index)\n",
    "data[\"I\"] = data[\"I\"].apply(lambda x: x/rmax * 76000*sirate)\n",
    "data[\"S\"] = data[\"S\"].apply(lambda x: x/smax * 76000)\n",
    "data = data.reset_index().drop(\"time\", axis=1)\n",
    "print(data)\n",
    "data.plot()"
   ]
  },
  {
   "cell_type": "code",
   "execution_count": null,
   "metadata": {},
   "outputs": [],
   "source": []
  }
 ],
 "metadata": {
  "kernelspec": {
   "display_name": "Python 3.7.0 64-bit ('3.7.0': pyenv)",
   "language": "python",
   "name": "python37064bit370pyenv0749abe64be54f97b0a4c791063e5b14"
  },
  "language_info": {
   "codemirror_mode": {
    "name": "ipython",
    "version": 3
   },
   "file_extension": ".py",
   "mimetype": "text/x-python",
   "name": "python",
   "nbconvert_exporter": "python",
   "pygments_lexer": "ipython3",
   "version": "3.7.0"
  }
 },
 "nbformat": 4,
 "nbformat_minor": 4
}
